{
  "nbformat": 4,
  "nbformat_minor": 0,
  "metadata": {
    "colab": {
      "provenance": [],
      "authorship_tag": "ABX9TyMj2a+1HmOcaBLbhvLsUIIg",
      "include_colab_link": true
    },
    "kernelspec": {
      "name": "python3",
      "display_name": "Python 3"
    },
    "language_info": {
      "name": "python"
    }
  },
  "cells": [
    {
      "cell_type": "markdown",
      "metadata": {
        "id": "view-in-github",
        "colab_type": "text"
      },
      "source": [
        "<a href=\"https://colab.research.google.com/github/anugrahck/SymptoMed_Coba/blob/main/ModelML/Test_Model.ipynb\" target=\"_parent\"><img src=\"https://colab.research.google.com/assets/colab-badge.svg\" alt=\"Open In Colab\"/></a>"
      ]
    },
    {
      "cell_type": "code",
      "source": [
        "import joblib"
      ],
      "metadata": {
        "id": "WB9sBQhZ_9uJ"
      },
      "execution_count": 2,
      "outputs": []
    },
    {
      "cell_type": "code",
      "execution_count": 4,
      "metadata": {
        "id": "umynS9rZ_5BV"
      },
      "outputs": [],
      "source": [
        "loaded_rf = joblib.load(\"./grid_search.joblib\")"
      ]
    },
    {
      "cell_type": "code",
      "source": [
        "import pandas as pd\n",
        "import numpy as np"
      ],
      "metadata": {
        "id": "6VXxRnnBBxvy"
      },
      "execution_count": 5,
      "outputs": []
    },
    {
      "cell_type": "code",
      "source": [
        "df_custom = pd.DataFrame(data={\n",
        "    'gatal': [1],\n",
        "    'ruam_kulit': [1],\n",
        "    'erupsi_kulit_nodal': [1],\n",
        "    'bersin_terus_menerus': [0],\n",
        "    'gemetaran': [0],\n",
        "    'panas_dingin': [0],\n",
        "    'nyeri_sendi': [0],\n",
        "    'sakit_perut': [0],\n",
        "    'keasaman': [0],\n",
        "    'bisul_di_lidah': [0],\n",
        "    'pemborosan_otot': [0],\n",
        "    'muntah': [0],\n",
        "    'buang_air_kecil_yang_terbakar': [0],\n",
        "    'buang_air_kecil_bercak': [0],\n",
        "    'kelelahan': [0],\n",
        "    'penambahan_berat_badan': [0],\n",
        "    'kecemasan': [0],\n",
        "    'tangan_dan_kaki_dingin': [0],\n",
        "    'perubahan_suasana_hati': [0],\n",
        "    'penurunan_berat_badan': [0],\n",
        "    'kegelisahan': [0],\n",
        "    'kelesuan': [0],\n",
        "    'bercak_di_tenggorokan': [0],\n",
        "    'kadar_gula_tidak_teratur': [0],\n",
        "    'batuk': [0],\n",
        "    'demam_tinggi': [0],\n",
        "    'mata_cekung': [0],\n",
        "    'sesak_napas': [0],\n",
        "    'berkeringat': [0],\n",
        "    'dehidrasi': [0],\n",
        "    'gangguan_pencernaan': [0],\n",
        "    'sakit_kepala': [0],\n",
        "    'kulit_kekuningan': [0],\n",
        "    'urin_gelap': [0],\n",
        "    'mual': [0],\n",
        "    'kehilangan_selera_makan': [0],\n",
        "    'nyeri_di_belakang_mata': [0],\n",
        "    'sakit_punggung': [0],\n",
        "    'sembelit': [0],\n",
        "    'sakit_perut_1': [0],\n",
        "    'diare': [0],\n",
        "    'demam_ringan': [0],\n",
        "    'urin_kuning': [0], \n",
        "    'menguningnya_mata': [0],\n",
        "    'gagal_hati_akut': [0],\n",
        "    'kelebihan_cairan': [0],\n",
        "    'pembengkakan_perut': [0],\n",
        "    'kelenjar_getah_bening_membengkak': [0],\n",
        "    'rasa_tidak_enak': [0],\n",
        "    'penglihatan_kabur_dan_terdistorsi': [0],\n",
        "    'dahak': [0],\n",
        "    'iritasi_tenggorokan': [0],\n",
        "    'mata_merah': [0],\n",
        "    'tekanan_sinus': [0],\n",
        "    'pilek': [0],\n",
        "    'penyumbatan': [0],\n",
        "    'nyeri_dada': [0],\n",
        "    'kelemahan_pada_tungkai': [0],\n",
        "    'detak_jantung_cepat': [0],\n",
        "    'nyeri_saat_buang_air_besar': [0],\n",
        "    'nyeri_di_daerah_anus': [0],\n",
        "    'tinja_berdarah': [0],\n",
        "    'iritasi_pada_anus': [0],\n",
        "    'sakit_leher': [0],\n",
        "    'pusing': [0],\n",
        "    'kram': [0],\n",
        "    'memar': [0],\n",
        "    'kegemukan': [0],\n",
        "    'kaki_bengkak': [0],\n",
        "    'pembuluh_darah_membengkak': [0],\n",
        "    'wajah_dan_mata_sembab': [0],\n",
        "    'tiroid_yang_membesar': [0],\n",
        "    'kuku_rapuh': [0],\n",
        "    'ekstremitas_bengkak': [0],\n",
        "    'rasa_lapar_yang_berlebihan': [0],\n",
        "    'kontak_perkawinan_ekstra': [0],\n",
        "    'bibir_kering_dan_kesemutan': [0],\n",
        "    'ucapan_cadel': [0],\n",
        "    'sakit_lutut': [0],\n",
        "    'nyeri_sendi_panggul': [0],\n",
        "    'kelemahan_otot': [0],\n",
        "    'leher_kaku': [0],\n",
        "    'sendi_bengkak': [0],\n",
        "    'kekakuan_gerakan': [0],\n",
        "    'gerakan_berputar': [0],\n",
        "    'kehilangan_keseimbangan': [0],\n",
        "    'kegoyangan': [0],\n",
        "    'kelemahan_satu_sisi_tubuh': [0],\n",
        "    'kehilangan_bau': [0], \n",
        "    'ketidaknyamanan_kandung_kemih': [0],\n",
        "    'bau_urin_yang_busuk': [0],\n",
        "    'rasa_urin_terus_menerus': [0],\n",
        "    'lewatnya_gas': [0],\n",
        "    'gatal_dalam': [0],\n",
        "    'tampilan_beracun_atau_tifus': [0],\n",
        "    'depresi': [0],\n",
        "    'sifat_lekas_marah': [0],\n",
        "    'nyeri_otot': [0],\n",
        "    'sensorium_yang_diubah': [0],\n",
        "    'bintik_bintik_merah_di_sekujur_tubuh': [0],\n",
        "    'sakit_perut_2': [0],\n",
        "    'menstruasi_yang_tidak_normal': [0],\n",
        "    'patch_diskromik': [1],\n",
        "    'berair_dari_mata': [0],\n",
        "    'nafsu_makan_meningkat': [0],\n",
        "    'poliuria': [0],\n",
        "    'sejarah_keluarga': [0],\n",
        "    'dahak_mukoid': [0],\n",
        "    'dahak_berkarat': [0],\n",
        "    'kurang_konsenterasi': [0],\n",
        "    'gangguan_penglihatan': [0],\n",
        "    'menerima_transfusi_darah': [0],\n",
        "    'menerima_suntikan_yang_tidak_steril': [0],\n",
        "    'koma': [0],\n",
        "    'pendarahan_perut': [0],\n",
        "    'distensi_abdomen': [0],\n",
        "    'riwayat_konsumsi_alkohol': [0],\n",
        "    'kelebihan_cairan_1': [0],\n",
        "    'darah_dalam_dahak': [0],\n",
        "    'pembuluh_darah_menonjol_di_betis': [0],\n",
        "    'palpitasi': [0],\n",
        "    'berjalan_yang_menyakitkan': [0],\n",
        "    'jerawat_berisi_nanah': [0],\n",
        "    'komedo': [0],\n",
        "    'berteriak_teriak': [0],\n",
        "    'pengelupasan_kulit': [0],\n",
        "    'perak_seperti_debu': [0],\n",
        "    'penyok_kecil_di_kuku': [0],\n",
        "    'kuku_inflamasi': [0],\n",
        "    'lepuh': [0],\n",
        "    'sakit_merah_di_sekitar_hidung': [0],\n",
        "    'kerak_kuning_keluar': [0]\n",
        "})\n",
        "df_custom"
      ],
      "metadata": {
        "colab": {
          "base_uri": "https://localhost:8080/",
          "height": 174
        },
        "id": "6m5ifIKbBt3h",
        "outputId": "ee19c846-9522-4c94-a3f6-e3e242bdbfc2"
      },
      "execution_count": 9,
      "outputs": [
        {
          "output_type": "execute_result",
          "data": {
            "text/plain": [
              "   gatal  ruam_kulit  erupsi_kulit_nodal  bersin_terus_menerus  gemetaran  \\\n",
              "0      1           1                   1                     0          0   \n",
              "\n",
              "   panas_dingin  nyeri_sendi  sakit_perut  keasaman  bisul_di_lidah  ...  \\\n",
              "0             0            0            0         0               0  ...   \n",
              "\n",
              "   jerawat_berisi_nanah  komedo  berteriak_teriak  pengelupasan_kulit  \\\n",
              "0                     0       0                 0                   0   \n",
              "\n",
              "   perak_seperti_debu  penyok_kecil_di_kuku  kuku_inflamasi  lepuh  \\\n",
              "0                   0                     0               0      0   \n",
              "\n",
              "   sakit_merah_di_sekitar_hidung  kerak_kuning_keluar  \n",
              "0                              0                    0  \n",
              "\n",
              "[1 rows x 132 columns]"
            ],
            "text/html": [
              "\n",
              "  <div id=\"df-2fbd7b90-8148-4b78-82d5-c40aa3e71fde\">\n",
              "    <div class=\"colab-df-container\">\n",
              "      <div>\n",
              "<style scoped>\n",
              "    .dataframe tbody tr th:only-of-type {\n",
              "        vertical-align: middle;\n",
              "    }\n",
              "\n",
              "    .dataframe tbody tr th {\n",
              "        vertical-align: top;\n",
              "    }\n",
              "\n",
              "    .dataframe thead th {\n",
              "        text-align: right;\n",
              "    }\n",
              "</style>\n",
              "<table border=\"1\" class=\"dataframe\">\n",
              "  <thead>\n",
              "    <tr style=\"text-align: right;\">\n",
              "      <th></th>\n",
              "      <th>gatal</th>\n",
              "      <th>ruam_kulit</th>\n",
              "      <th>erupsi_kulit_nodal</th>\n",
              "      <th>bersin_terus_menerus</th>\n",
              "      <th>gemetaran</th>\n",
              "      <th>panas_dingin</th>\n",
              "      <th>nyeri_sendi</th>\n",
              "      <th>sakit_perut</th>\n",
              "      <th>keasaman</th>\n",
              "      <th>bisul_di_lidah</th>\n",
              "      <th>...</th>\n",
              "      <th>jerawat_berisi_nanah</th>\n",
              "      <th>komedo</th>\n",
              "      <th>berteriak_teriak</th>\n",
              "      <th>pengelupasan_kulit</th>\n",
              "      <th>perak_seperti_debu</th>\n",
              "      <th>penyok_kecil_di_kuku</th>\n",
              "      <th>kuku_inflamasi</th>\n",
              "      <th>lepuh</th>\n",
              "      <th>sakit_merah_di_sekitar_hidung</th>\n",
              "      <th>kerak_kuning_keluar</th>\n",
              "    </tr>\n",
              "  </thead>\n",
              "  <tbody>\n",
              "    <tr>\n",
              "      <th>0</th>\n",
              "      <td>1</td>\n",
              "      <td>1</td>\n",
              "      <td>1</td>\n",
              "      <td>0</td>\n",
              "      <td>0</td>\n",
              "      <td>0</td>\n",
              "      <td>0</td>\n",
              "      <td>0</td>\n",
              "      <td>0</td>\n",
              "      <td>0</td>\n",
              "      <td>...</td>\n",
              "      <td>0</td>\n",
              "      <td>0</td>\n",
              "      <td>0</td>\n",
              "      <td>0</td>\n",
              "      <td>0</td>\n",
              "      <td>0</td>\n",
              "      <td>0</td>\n",
              "      <td>0</td>\n",
              "      <td>0</td>\n",
              "      <td>0</td>\n",
              "    </tr>\n",
              "  </tbody>\n",
              "</table>\n",
              "<p>1 rows × 132 columns</p>\n",
              "</div>\n",
              "      <button class=\"colab-df-convert\" onclick=\"convertToInteractive('df-2fbd7b90-8148-4b78-82d5-c40aa3e71fde')\"\n",
              "              title=\"Convert this dataframe to an interactive table.\"\n",
              "              style=\"display:none;\">\n",
              "        \n",
              "  <svg xmlns=\"http://www.w3.org/2000/svg\" height=\"24px\"viewBox=\"0 0 24 24\"\n",
              "       width=\"24px\">\n",
              "    <path d=\"M0 0h24v24H0V0z\" fill=\"none\"/>\n",
              "    <path d=\"M18.56 5.44l.94 2.06.94-2.06 2.06-.94-2.06-.94-.94-2.06-.94 2.06-2.06.94zm-11 1L8.5 8.5l.94-2.06 2.06-.94-2.06-.94L8.5 2.5l-.94 2.06-2.06.94zm10 10l.94 2.06.94-2.06 2.06-.94-2.06-.94-.94-2.06-.94 2.06-2.06.94z\"/><path d=\"M17.41 7.96l-1.37-1.37c-.4-.4-.92-.59-1.43-.59-.52 0-1.04.2-1.43.59L10.3 9.45l-7.72 7.72c-.78.78-.78 2.05 0 2.83L4 21.41c.39.39.9.59 1.41.59.51 0 1.02-.2 1.41-.59l7.78-7.78 2.81-2.81c.8-.78.8-2.07 0-2.86zM5.41 20L4 18.59l7.72-7.72 1.47 1.35L5.41 20z\"/>\n",
              "  </svg>\n",
              "      </button>\n",
              "      \n",
              "  <style>\n",
              "    .colab-df-container {\n",
              "      display:flex;\n",
              "      flex-wrap:wrap;\n",
              "      gap: 12px;\n",
              "    }\n",
              "\n",
              "    .colab-df-convert {\n",
              "      background-color: #E8F0FE;\n",
              "      border: none;\n",
              "      border-radius: 50%;\n",
              "      cursor: pointer;\n",
              "      display: none;\n",
              "      fill: #1967D2;\n",
              "      height: 32px;\n",
              "      padding: 0 0 0 0;\n",
              "      width: 32px;\n",
              "    }\n",
              "\n",
              "    .colab-df-convert:hover {\n",
              "      background-color: #E2EBFA;\n",
              "      box-shadow: 0px 1px 2px rgba(60, 64, 67, 0.3), 0px 1px 3px 1px rgba(60, 64, 67, 0.15);\n",
              "      fill: #174EA6;\n",
              "    }\n",
              "\n",
              "    [theme=dark] .colab-df-convert {\n",
              "      background-color: #3B4455;\n",
              "      fill: #D2E3FC;\n",
              "    }\n",
              "\n",
              "    [theme=dark] .colab-df-convert:hover {\n",
              "      background-color: #434B5C;\n",
              "      box-shadow: 0px 1px 3px 1px rgba(0, 0, 0, 0.15);\n",
              "      filter: drop-shadow(0px 1px 2px rgba(0, 0, 0, 0.3));\n",
              "      fill: #FFFFFF;\n",
              "    }\n",
              "  </style>\n",
              "\n",
              "      <script>\n",
              "        const buttonEl =\n",
              "          document.querySelector('#df-2fbd7b90-8148-4b78-82d5-c40aa3e71fde button.colab-df-convert');\n",
              "        buttonEl.style.display =\n",
              "          google.colab.kernel.accessAllowed ? 'block' : 'none';\n",
              "\n",
              "        async function convertToInteractive(key) {\n",
              "          const element = document.querySelector('#df-2fbd7b90-8148-4b78-82d5-c40aa3e71fde');\n",
              "          const dataTable =\n",
              "            await google.colab.kernel.invokeFunction('convertToInteractive',\n",
              "                                                     [key], {});\n",
              "          if (!dataTable) return;\n",
              "\n",
              "          const docLinkHtml = 'Like what you see? Visit the ' +\n",
              "            '<a target=\"_blank\" href=https://colab.research.google.com/notebooks/data_table.ipynb>data table notebook</a>'\n",
              "            + ' to learn more about interactive tables.';\n",
              "          element.innerHTML = '';\n",
              "          dataTable['output_type'] = 'display_data';\n",
              "          await google.colab.output.renderOutput(dataTable, element);\n",
              "          const docLink = document.createElement('div');\n",
              "          docLink.innerHTML = docLinkHtml;\n",
              "          element.appendChild(docLink);\n",
              "        }\n",
              "      </script>\n",
              "    </div>\n",
              "  </div>\n",
              "  "
            ]
          },
          "metadata": {},
          "execution_count": 9
        }
      ]
    },
    {
      "cell_type": "code",
      "source": [
        "loaded_rf.predict(df_custom)"
      ],
      "metadata": {
        "colab": {
          "base_uri": "https://localhost:8080/"
        },
        "id": "DBhs8O5SA2VO",
        "outputId": "3cbf153e-25f0-413e-d8b4-52b9af0b839f"
      },
      "execution_count": 10,
      "outputs": [
        {
          "output_type": "execute_result",
          "data": {
            "text/plain": [
              "array([0])"
            ]
          },
          "metadata": {},
          "execution_count": 10
        }
      ]
    },
    {
      "cell_type": "code",
      "source": [
        "result = loaded_rf.predict_proba(df_custom)"
      ],
      "metadata": {
        "id": "BHnKEPYRCAMz"
      },
      "execution_count": 11,
      "outputs": []
    },
    {
      "cell_type": "code",
      "source": [
        "print([np.argmax(result[0])], f\"dengan probabilitas {round((result[0][0])*100, 2)}%\")\n"
      ],
      "metadata": {
        "colab": {
          "base_uri": "https://localhost:8080/"
        },
        "id": "sYKkVpTfCN3e",
        "outputId": "35374df2-f538-4466-dfe6-12f848bee94e"
      },
      "execution_count": 12,
      "outputs": [
        {
          "output_type": "stream",
          "name": "stdout",
          "text": [
            "[0] dengan probabilitas 100.0%\n"
          ]
        }
      ]
    },
    {
      "cell_type": "code",
      "source": [
        "result"
      ],
      "metadata": {
        "colab": {
          "base_uri": "https://localhost:8080/"
        },
        "id": "eQdfOMuNCdZ7",
        "outputId": "1b62f4c6-110c-4392-f7c1-e1fe025737be"
      },
      "execution_count": 13,
      "outputs": [
        {
          "output_type": "execute_result",
          "data": {
            "text/plain": [
              "array([[1., 0., 0., 0., 0., 0., 0., 0., 0., 0., 0., 0., 0., 0., 0., 0.,\n",
              "        0., 0., 0., 0., 0., 0., 0., 0., 0., 0., 0., 0., 0., 0., 0., 0.,\n",
              "        0., 0., 0., 0., 0., 0., 0., 0., 0.]])"
            ]
          },
          "metadata": {},
          "execution_count": 13
        }
      ]
    }
  ]
}